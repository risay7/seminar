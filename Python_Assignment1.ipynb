{
  "cells": [
    {
      "cell_type": "markdown",
      "metadata": {
        "id": "view-in-github",
        "colab_type": "text"
      },
      "source": [
        "<a href=\"https://colab.research.google.com/github/risay7/seminar/blob/main/Python_Assignment1.ipynb\" target=\"_parent\"><img src=\"https://colab.research.google.com/assets/colab-badge.svg\" alt=\"Open In Colab\"/></a>"
      ]
    },
    {
      "cell_type": "markdown",
      "id": "87759f16-1cb4-4931-b15c-35264fc30657",
      "metadata": {
        "id": "87759f16-1cb4-4931-b15c-35264fc30657"
      },
      "source": [
        "# Python　第一回課題"
      ]
    },
    {
      "cell_type": "markdown",
      "id": "3786359d-6241-4b88-8cc8-fb4a8961217d",
      "metadata": {
        "id": "3786359d-6241-4b88-8cc8-fb4a8961217d"
      },
      "source": [
        "### 問1.　以下の式を計算してください。"
      ]
    },
    {
      "cell_type": "markdown",
      "id": "16cf73d0-14fc-49f3-8ac9-dd6ef06e4ace",
      "metadata": {
        "id": "16cf73d0-14fc-49f3-8ac9-dd6ef06e4ace"
      },
      "source": [
        "(1)  3 × 5² + 16"
      ]
    },
    {
      "cell_type": "code",
      "source": [
        "3*5^2+16"
      ],
      "metadata": {
        "colab": {
          "base_uri": "https://localhost:8080/"
        },
        "id": "2LXZyclg_wV9",
        "outputId": "09e59d37-a81d-4dda-bc2d-f9e876a949c7"
      },
      "id": "2LXZyclg_wV9",
      "execution_count": null,
      "outputs": [
        {
          "output_type": "execute_result",
          "data": {
            "text/plain": [
              "29"
            ]
          },
          "metadata": {},
          "execution_count": 2
        }
      ]
    },
    {
      "cell_type": "markdown",
      "id": "a67231ec-f6a6-4fc4-bc4f-403af02a0906",
      "metadata": {
        "id": "a67231ec-f6a6-4fc4-bc4f-403af02a0906"
      },
      "source": [
        "(2) (√(6) + 2) ÷ 3"
      ]
    },
    {
      "cell_type": "code",
      "source": [
        "import math\n",
        "((math.sqrt(6))+2)/3"
      ],
      "metadata": {
        "colab": {
          "base_uri": "https://localhost:8080/"
        },
        "id": "yJ2M28MJ_4dP",
        "outputId": "2cf194a9-7c04-495d-8cac-11116e2d10b4"
      },
      "id": "yJ2M28MJ_4dP",
      "execution_count": null,
      "outputs": [
        {
          "output_type": "execute_result",
          "data": {
            "text/plain": [
              "1.4831632475943926"
            ]
          },
          "metadata": {},
          "execution_count": 4
        }
      ]
    },
    {
      "cell_type": "markdown",
      "id": "537940ac-1d1c-46bf-8c00-c743cbe1a114",
      "metadata": {
        "id": "537940ac-1d1c-46bf-8c00-c743cbe1a114"
      },
      "source": [
        "### 問2.　以下の式が評価されていく過程と結果を表記してください。"
      ]
    },
    {
      "cell_type": "code",
      "execution_count": null,
      "id": "b9a3c2bd-ce1e-4f51-98ad-8902d4912db1",
      "metadata": {
        "colab": {
          "base_uri": "https://localhost:8080/"
        },
        "id": "b9a3c2bd-ce1e-4f51-98ad-8902d4912db1",
        "outputId": "6efc8d92-6613-462d-d482-f6bc20bd3dad"
      },
      "outputs": [
        {
          "output_type": "execute_result",
          "data": {
            "text/plain": [
              "9"
            ]
          },
          "metadata": {},
          "execution_count": 7
        }
      ],
      "source": [
        "3 ** 2 ** 2 - 100 // 12 * 9"
      ]
    },
    {
      "cell_type": "markdown",
      "source": [
        "・3** 2**2\n",
        "\n",
        "2** 2=4\n",
        "\n",
        "3**4=81\n",
        "\n",
        "・100//12*9\n",
        "\n",
        "100//12=8　（100を12で割った整数部分）\n",
        "\n",
        "8*9=72\n",
        "\n",
        "81-72=9\n",
        "\n",
        "　→べき乗のみ右結合"
      ],
      "metadata": {
        "id": "HsmplMZYCm3a"
      },
      "id": "HsmplMZYCm3a"
    },
    {
      "cell_type": "markdown",
      "id": "6562dc35-27e6-4748-a0f7-a18e28f7123a",
      "metadata": {
        "id": "6562dc35-27e6-4748-a0f7-a18e28f7123a"
      },
      "source": [
        "### 問3.1　x ポンド y オンスをグラムに変換する関数 pd_to_g(x,y) を定義してください。 ただし、1 ポンド = 16 オンス = 453 g としてよい。"
      ]
    },
    {
      "cell_type": "markdown",
      "source": [],
      "metadata": {
        "id": "wnmKv1b4H4xv"
      },
      "id": "wnmKv1b4H4xv"
    },
    {
      "cell_type": "code",
      "source": [
        "def pd_to_g(x, y):\n",
        "    pound_to_gram = x * 453\n",
        "    ounce_to_gram = y * (453/16)\n",
        "    total_gram = pound_to_gram + ounce_to_gram\n",
        "    return total_gram\n"
      ],
      "metadata": {
        "id": "_DTdNpHABBrV"
      },
      "id": "_DTdNpHABBrV",
      "execution_count": null,
      "outputs": []
    },
    {
      "cell_type": "markdown",
      "id": "88f0cab5-7733-48e6-857a-fdba5db4eb21",
      "metadata": {
        "id": "88f0cab5-7733-48e6-857a-fdba5db4eb21"
      },
      "source": [
        "### 問3.2　関数 pd_to_g を用いて３ポンド４オンスをグラムに変換してください。"
      ]
    },
    {
      "cell_type": "code",
      "source": [
        "pounds = 3\n",
        "ounces = 4\n",
        "grams = pd_to_g(pounds, ounces)\n",
        "print(\"3ポンド4オンスは{}グラムです。\".format(grams))"
      ],
      "metadata": {
        "colab": {
          "base_uri": "https://localhost:8080/"
        },
        "id": "cDLV2EAgDfrQ",
        "outputId": "c0ae1312-f403-49d2-cb67-0622eff9f4eb"
      },
      "id": "cDLV2EAgDfrQ",
      "execution_count": null,
      "outputs": [
        {
          "output_type": "stream",
          "name": "stdout",
          "text": [
            "3ポンド4オンスは1472.25グラムです。\n"
          ]
        }
      ]
    },
    {
      "cell_type": "markdown",
      "id": "8b48a77e-cd5f-4ff6-8814-cd27d88fe702",
      "metadata": {
        "id": "8b48a77e-cd5f-4ff6-8814-cd27d88fe702"
      },
      "source": [
        "### 問4.1.　1.4 ≦ x ≦ 1.5 の条件を満たすｘを少数第二位で四捨五入する関数 round(x) を定義してください。"
      ]
    },
    {
      "cell_type": "code",
      "source": [
        "def round_x(x):\n",
        "    if 1.4 <= x <= 1.5:\n",
        "        return round(x, 2)\n",
        "    else:\n",
        "        print(\"Error: x must be in the range 1.4 to 1.5.\")\n",
        "        return None\n",
        "\n",
        "#round(x,2)は小数点第二位で四捨五入して返す\n"
      ],
      "metadata": {
        "id": "iDBvxlbfEEOR"
      },
      "id": "iDBvxlbfEEOR",
      "execution_count": null,
      "outputs": []
    },
    {
      "cell_type": "markdown",
      "id": "225a2b5e-819a-4a18-b079-e29d5b88a826",
      "metadata": {
        "id": "225a2b5e-819a-4a18-b079-e29d5b88a826"
      },
      "source": [
        "### 問4.2　x に 1.45 を代入した aseert文で関数のテストを行ってください。"
      ]
    },
    {
      "cell_type": "code",
      "source": [
        "# テスト用の値\n",
        "x = 1.45\n",
        "rounded_x = round_x(x)\n",
        "\n",
        "# アサーションを使ってテストを実行\n",
        "assert rounded_x == 1.45, \"Test failed: Expected 1.45 but got {}\".format(rounded_x)\n",
        "print(\"Test passed!\")"
      ],
      "metadata": {
        "colab": {
          "base_uri": "https://localhost:8080/"
        },
        "id": "vtGYWnywF8TL",
        "outputId": "2b5eafdc-8f61-4711-a567-d6a087cdcbaa"
      },
      "id": "vtGYWnywF8TL",
      "execution_count": null,
      "outputs": [
        {
          "output_type": "stream",
          "name": "stdout",
          "text": [
            "Test passed!\n"
          ]
        }
      ]
    },
    {
      "cell_type": "markdown",
      "id": "3e239463-b212-428a-a5e1-ab15998205a8",
      "metadata": {
        "id": "3e239463-b212-428a-a5e1-ab15998205a8"
      },
      "source": [
        "### 問4.3　関数 round(x) を用いて 0.8657 + 0.5823 の計算結果を少数第二位で四捨五入した値を求めてください。"
      ]
    },
    {
      "cell_type": "code",
      "source": [
        "result = round(0.8657 + 0.5823, 2)\n",
        "print(result)"
      ],
      "metadata": {
        "colab": {
          "base_uri": "https://localhost:8080/"
        },
        "id": "d1O_UgHDHOi3",
        "outputId": "182812dc-57e9-4f6d-f615-15c93388c823"
      },
      "id": "d1O_UgHDHOi3",
      "execution_count": null,
      "outputs": [
        {
          "output_type": "stream",
          "name": "stdout",
          "text": [
            "1.45\n"
          ]
        }
      ]
    },
    {
      "cell_type": "markdown",
      "id": "8f170e07-469f-4ed6-a424-5b30a92724a5",
      "metadata": {
        "id": "8f170e07-469f-4ed6-a424-5b30a92724a5"
      },
      "source": [
        "### 問5.1　x が 120 の約数かどうかを確かめる関数 factor(x) を定義してください。"
      ]
    },
    {
      "cell_type": "code",
      "source": [
        "def factor(x):\n",
        "    if 120 % x == 0:\n",
        "        return True\n",
        "    else:\n",
        "        return False"
      ],
      "metadata": {
        "id": "W8coR6zMHWG_"
      },
      "id": "W8coR6zMHWG_",
      "execution_count": null,
      "outputs": []
    },
    {
      "cell_type": "markdown",
      "id": "8eef3c29-6bf1-4e96-b7bf-bcc997831ba0",
      "metadata": {
        "id": "8eef3c29-6bf1-4e96-b7bf-bcc997831ba0"
      },
      "source": [
        "### 問5.2　関数 factor(x) を用いて3³ が 120 の約数かどうかを確かめてください。"
      ]
    },
    {
      "cell_type": "code",
      "source": [
        "x = 3**3\n",
        "\n",
        "if factor(x):\n",
        "    print(\"{}は120の約数です。\".format(x))\n",
        "else:\n",
        "    print(\"{}は120の約数ではありません。\".format(x))\n"
      ],
      "metadata": {
        "colab": {
          "base_uri": "https://localhost:8080/"
        },
        "id": "7CgEpJ5LHcos",
        "outputId": "2d67af15-4b45-4612-9133-c041b5690906"
      },
      "id": "7CgEpJ5LHcos",
      "execution_count": null,
      "outputs": [
        {
          "output_type": "stream",
          "name": "stdout",
          "text": [
            "27は120の約数ではありません。\n"
          ]
        }
      ]
    },
    {
      "cell_type": "code",
      "source": [],
      "metadata": {
        "id": "tMTD-oNjHf1i"
      },
      "id": "tMTD-oNjHf1i",
      "execution_count": null,
      "outputs": []
    }
  ],
  "metadata": {
    "kernelspec": {
      "display_name": "Python 3 (ipykernel)",
      "language": "python",
      "name": "python3"
    },
    "language_info": {
      "codemirror_mode": {
        "name": "ipython",
        "version": 3
      },
      "file_extension": ".py",
      "mimetype": "text/x-python",
      "name": "python",
      "nbconvert_exporter": "python",
      "pygments_lexer": "ipython3",
      "version": "3.10.9"
    },
    "colab": {
      "provenance": [],
      "include_colab_link": true
    }
  },
  "nbformat": 4,
  "nbformat_minor": 5
}